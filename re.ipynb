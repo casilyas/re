{
 "cells": [
  {
   "cell_type": "code",
   "execution_count": 21,
   "id": "aca4a209-b939-4a04-9f3d-2a2f142a2df3",
   "metadata": {},
   "outputs": [],
   "source": [
    "import requests\n",
    "from bs4 import BeautifulSoup "
   ]
  },
  {
   "cell_type": "code",
   "execution_count": 22,
   "id": "f42bf9a0-f674-45b8-8ba6-b22980dd8bd1",
   "metadata": {},
   "outputs": [],
   "source": [
    "url = \"https://turbo.az/\"\n",
    "response = requests.get(url)\n",
    "soup = BeautifulSoup(response.content, \"html.parser\")\n",
    "cars = soup.find_all(\"div\", {\"class\": \"products-i__bottom\"})"
   ]
  },
  {
   "cell_type": "code",
   "execution_count": 24,
   "id": "335b53eb-e97b-4206-8c16-343377c47faa",
   "metadata": {
    "tags": []
   },
   "outputs": [
    {
     "name": "stdout",
     "output_type": "stream",
     "text": [
      "[{'price': '55 000 $', 'name': None, 'atributes': None}, {'price': '146 500 $', 'name': None, 'atributes': None}, {'price': '6 950 AZN', 'name': None, 'atributes': None}, {'price': '68 000 $', 'name': None, 'atributes': None}, {'price': '44 500 $', 'name': None, 'atributes': None}, {'price': '45 900 AZN', 'name': None, 'atributes': None}, {'price': '31 500 AZN', 'name': None, 'atributes': None}, {'price': '54 000 AZN', 'name': None, 'atributes': None}, {'price': '52 900 AZN', 'name': None, 'atributes': None}, {'price': '20 000 $', 'name': None, 'atributes': None}, {'price': '32 950 AZN', 'name': None, 'atributes': None}, {'price': '20 000 $', 'name': None, 'atributes': None}, {'price': '13 499 AZN', 'name': None, 'atributes': None}, {'price': '43 500 AZN', 'name': None, 'atributes': None}, {'price': '11 800 AZN', 'name': None, 'atributes': None}, {'price': '15 480 AZN', 'name': None, 'atributes': None}]\n"
     ]
    }
   ],
   "source": [
    "\n",
    "products=[]\n",
    "for car in cars:\n",
    "    product = {\n",
    "        \"price\": car.find(\"div\",{\"class\":\"product-price\"}).text,\n",
    "        \"name\": car.find(\"div\",{\"class\":\"products-i_name\"}),\n",
    "        \"atributes\": car.find(\"div\",{\"class\":\"products-i_attributes\"}),\n",
    "\n",
    "        }\n",
    "    products.append(product)\n",
    "print(products)        "
   ]
  },
  {
   "cell_type": "code",
   "execution_count": null,
   "id": "377976f5-6d3a-47c5-8926-aa2b0ae81dbd",
   "metadata": {},
   "outputs": [],
   "source": []
  }
 ],
 "metadata": {
  "kernelspec": {
   "display_name": "Python 3 (ipykernel)",
   "language": "python",
   "name": "python3"
  },
  "language_info": {
   "codemirror_mode": {
    "name": "ipython",
    "version": 3
   },
   "file_extension": ".py",
   "mimetype": "text/x-python",
   "name": "python",
   "nbconvert_exporter": "python",
   "pygments_lexer": "ipython3",
   "version": "3.10.4"
  }
 },
 "nbformat": 4,
 "nbformat_minor": 5
}
